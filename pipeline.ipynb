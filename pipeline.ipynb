{
  "nbformat": 4,
  "nbformat_minor": 0,
  "metadata": {
    "colab": {
      "provenance": [],
      "authorship_tag": "ABX9TyMHoueAffVGyVeACQ4B6giT",
      "include_colab_link": true
    },
    "kernelspec": {
      "name": "python3",
      "display_name": "Python 3"
    },
    "language_info": {
      "name": "python"
    }
  },
  "cells": [
    {
      "cell_type": "markdown",
      "metadata": {
        "id": "view-in-github",
        "colab_type": "text"
      },
      "source": [
        "<a href=\"https://colab.research.google.com/github/jwashb22/crypto_pipline-analysis/blob/main/pipeline.ipynb\" target=\"_parent\"><img src=\"https://colab.research.google.com/assets/colab-badge.svg\" alt=\"Open In Colab\"/></a>"
      ]
    },
    {
      "cell_type": "code",
      "execution_count": 41,
      "metadata": {
        "id": "FFVH3nlXxudj"
      },
      "outputs": [],
      "source": [
        "import requests\n",
        "import pandas as pd\n",
        "from sqlalchemy import create_engine, Column, DateTime, Float, Integer, String, UniqueConstraint, Boolean, text, BIGINT, ForeignKeyConstraint\n",
        "from sqlalchemy.orm import declarative_base\n",
        "import time\n",
        "from datetime import datetime, timedelta\n",
        "from functools import wraps\n",
        "import os\n",
        "from google.colab import userdata"
      ]
    },
    {
      "cell_type": "code",
      "source": [
        "base = declarative_base()"
      ],
      "metadata": {
        "id": "sKo2zbBwyHXI"
      },
      "execution_count": 16,
      "outputs": []
    },
    {
      "cell_type": "code",
      "source": [
        "def normalize_symbol(symbol):\n",
        "    return symbol if symbol.endswith('USDT') else f\"{symbol}USDT\"\n",
        "def data_retrieval(func):\n",
        "    @wraps(func)\n",
        "    def wrapper(symbols, db_url, *args, **kwargs):\n",
        "        symbols = [s for s in symbols if s not in ['USDT', 'USDC', 'BUSD']]\n",
        "        symbols = [normalize_symbol(s) for s in symbols]\n",
        "        try:\n",
        "            engine = create_engine(db_url)\n",
        "            base.metadata.create_all(engine)\n",
        "            all_df = []\n",
        "\n",
        "            for symbol in symbols:\n",
        "                try:\n",
        "                    df = func(symbol, *args, **kwargs)\n",
        "                    if df is not None and len(df) > 0:\n",
        "                        all_df.append(df)\n",
        "                    time.sleep(1)\n",
        "                except Exception as e:\n",
        "                    print(f\"Error processing {symbol}: {e}\")\n",
        "\n",
        "            if all_df:\n",
        "                final_df = pd.concat(all_df, ignore_index=True)\n",
        "                table_name = func.__name__.replace('data', '').replace('_', '')\n",
        "                final_df.to_sql(f'{table_name}_data', engine, if_exists='replace', index=False)\n",
        "                print(f\"Successfully loaded {len(final_df)} records to {table_name}_data\")\n",
        "                return final_df\n",
        "            else:\n",
        "                print('No data was retrieved')\n",
        "                return None\n",
        "\n",
        "        except Exception as e:\n",
        "             print(f\"Error in data retrieval: {e}\")\n",
        "             return None\n",
        "    return wrapper"
      ],
      "metadata": {
        "id": "dyEMVn6hyNQN"
      },
      "execution_count": 58,
      "outputs": []
    },
    {
      "cell_type": "code",
      "source": [
        "@data_retrieval\n",
        "def price_data(symbol):\n",
        "    base_url = 'https://api.binance.us/api/v3/klines'\n",
        "    params = {\n",
        "        'symbol': symbol,\n",
        "        'interval': '1d',\n",
        "        'limit': 1000\n",
        "    }\n",
        "    r = requests.get(base_url, params=params)\n",
        "    data = r.json()\n",
        "\n",
        "    if not data:\n",
        "        print(f\"No data was recieved for {symbol}\")\n",
        "        return None\n",
        "    df = pd.DataFrame(data, columns=['timestamp', 'open', 'high', 'low', 'close', 'volume',\n",
        "                                     'close_time', 'quote_volume', 'trades', 'taker_buy_base',\n",
        "                                     'taker_buy_quote', 'ignore'])\n",
        "\n",
        "    df['date'] = pd.to_datetime(df['timestamp'], unit='ms')\n",
        "    df['symbol'] = symbol\n",
        "    numeric_cols = ['open', 'high', 'low', 'close', 'volume']\n",
        "    df[numeric_cols] = df[numeric_cols].astype(float)\n",
        "    df['number_of_trades'] = df['trades'].astype(int)\n",
        "    df['daily_return'] = df['close'].pct_change() * 100\n",
        "    df['MA7'] = df['close'].rolling(window=7).mean()\n",
        "    df['MA30'] = df['close'].rolling(window=30).mean()\n",
        "    df['daily_range'] = df['high'] - df['low']\n",
        "    df['volatility'] = ((df['high'] - df['low']) / df['open']) * 100\n",
        "\n",
        "    columns = ['symbol', 'date', 'open', 'high', 'low', 'close', 'volume',\n",
        "               'quote_volume', 'number_of_trades', 'daily_return',\n",
        "               'MA7', 'MA30', 'daily_range', 'volatility']\n",
        "\n",
        "    return df[columns].dropna()"
      ],
      "metadata": {
        "id": "QlApzJF-0rWx"
      },
      "execution_count": 25,
      "outputs": []
    },
    {
      "cell_type": "code",
      "source": [
        "@data_retrieval\n",
        "def trade_stats_data(symbol):\n",
        "    base_url = 'https://api.binance.us/api/v3/ticker/24hr'\n",
        "    r = requests.get(base_url, params={'symbol': symbol})\n",
        "    data = r.json()\n",
        "\n",
        "    if not data:\n",
        "        print(f\"No data was recieved for {symbol}\")\n",
        "        return None\n",
        "\n",
        "    df = pd.DataFrame([{\n",
        "        'symbol': symbol,\n",
        "        'timestamp': pd.to_datetime(int(data.get('closeTime', 0)), unit='ms'),\n",
        "        'price_change': float(data['priceChange']),\n",
        "        'price_change_percent': float(data['priceChangePercent']),\n",
        "        'weighted_avg_price': float(data['weightedAvgPrice']),\n",
        "        'prev_close_price': float(data['prevClosePrice']),\n",
        "        'last_price': float(data['lastPrice']),\n",
        "        'last_qty': float(data['lastQty']),\n",
        "        'bid_price': float(data['bidPrice']),\n",
        "        'bid_qty': float(data['bidQty']),\n",
        "        'ask_price': float(data['askPrice']),\n",
        "        'ask_qty': float(data['askQty'])\n",
        "    }])\n",
        "\n",
        "    return df.dropna()"
      ],
      "metadata": {
        "id": "TBKjNQCR4rE5"
      },
      "execution_count": 26,
      "outputs": []
    },
    {
      "cell_type": "code",
      "source": [
        "@data_retrieval\n",
        "def order_book_data(symbol):\n",
        "    base_url = 'https://api.binance.us/api/v3/depth'\n",
        "    r = requests.get(base_url, params={'symbol': symbol, 'limit': 1000})\n",
        "    data = r.json()\n",
        "\n",
        "    if not data:\n",
        "        print(f\"No data was recieved for {symbol}\")\n",
        "        return None\n",
        "\n",
        "    df = pd.DataFrame([{\n",
        "        'symbol': symbol,\n",
        "        'timestamp': pd.Timestamp.now(),\n",
        "        'last_update_id': data['lastUpdateId'],\n",
        "        'bid_price': float(data['bids'][0][0]),\n",
        "        'bid_quantity': float(data['bids'][0][1]),\n",
        "        'ask_price': float(data['asks'][0][0]),\n",
        "        'ask_quantity': float(data['asks'][0][1]),\n",
        "        'bid_volume': sum(float(bid[1]) for bid in data['bids']),\n",
        "        'ask_volume': sum(float(ask[1]) for ask in data['asks'])\n",
        "    }])\n",
        "\n",
        "    return df"
      ],
      "metadata": {
        "id": "AsU1xsEr4pHy"
      },
      "execution_count": 20,
      "outputs": []
    },
    {
      "cell_type": "code",
      "source": [
        "@data_retrieval\n",
        "def recent_trades_data(symbol, limit=1000):\n",
        "    base_url = 'https://api.binance.us/api/v3/trades'\n",
        "    r = requests.get(base_url, params={'symbol': symbol, 'limit': limit})\n",
        "    data = r.json()\n",
        "\n",
        "    if not data:\n",
        "        print(f\"No data was recieved for {symbol}\")\n",
        "        return None\n",
        "\n",
        "    trades_list = [{\n",
        "        'symbol': symbol,\n",
        "        'trade_id': trade['id'],\n",
        "        'price': float(trade['price']),\n",
        "        'quantity': float(trade['qty']),\n",
        "        'quote_quantity': float(trade['quoteQty']),\n",
        "        'timestamp': pd.to_datetime(trade['time'], unit='ms'),\n",
        "        'is_buyer_maker': trade['isBuyerMaker']\n",
        "    } for trade in data]\n",
        "\n",
        "    return pd.DataFrame(trades_list)"
      ],
      "metadata": {
        "id": "SV_Cko8d52Q5"
      },
      "execution_count": 39,
      "outputs": []
    },
    {
      "cell_type": "code",
      "source": [
        "@data_retrieval\n",
        "def technical_indicators_data(symbol, limit=1000):\n",
        "    base_url = 'https://api.binance.us/api/v3/klines'\n",
        "    params = {\n",
        "        'symbol': symbol,\n",
        "        'interval': '1d',\n",
        "        'limit': 1000\n",
        "    }\n",
        "    r = requests.get(base_url, params=params)\n",
        "    data = r.json()\n",
        "\n",
        "    if not data:\n",
        "        print(f\"No data was recieved for {symbol}\")\n",
        "        return None\n",
        "\n",
        "    df = pd.DataFrame(data, columns=['timestamp', 'open', 'high', 'low', 'close', 'volume',\n",
        "                                     'close_time', 'quote_volume', 'trades', 'taker_buy_base',\n",
        "                                     'taker_buy_quote', 'ignore'])\n",
        "\n",
        "    df['date'] = pd.to_datetime(df['timestamp'], unit='ms')\n",
        "    df['symbol'] = symbol\n",
        "    numeric_cols = ['open', 'high', 'low', 'close']\n",
        "    df[numeric_cols] = df[numeric_cols].astype(float)\n",
        "\n",
        "    delta = df['close'].diff()\n",
        "    gain = (delta.where(delta > 0, 0)).rolling(window=14).mean()\n",
        "    loss = (-delta.where(delta < 0, 0)).rolling(window=14).mean()\n",
        "    rs = gain / loss\n",
        "    df['rsi_14'] = 100 - (100 / (1 + rs))\n",
        "    exp1 = df['close'].ewm(span=12, adjust=False).mean()\n",
        "    exp2 = df['close'].ewm(span=26, adjust=False).mean()\n",
        "    df['macd_line'] = exp1 - exp2\n",
        "    df['signal_line'] = df['macd_line'].ewm(span=9, adjust=False).mean()\n",
        "    df['macd_histogram'] = df['macd_line'] - df['signal_line']\n",
        "    df['bb_middle'] = df['close'].rolling(window=20).mean()\n",
        "    bb_std = df['close'].rolling(window=20).std()\n",
        "    df['bb_upper'] = df['bb_middle'] + (bb_std * 2)\n",
        "    df['bb_lower'] = df['bb_middle'] - (bb_std * 2)\n",
        "    low_14 = df['low'].rolling(window=14).min()\n",
        "    high_14 = df['high'].rolling(window=14).max()\n",
        "    df['stoch_k'] = ((df['close'] - low_14) / (high_14 - low_14)) * 100\n",
        "    df['stoch_d'] = df['stoch_k'].rolling(window=3).mean()\n",
        "\n",
        "    columns = [\n",
        "        'symbol', 'date',\n",
        "        'rsi_14', 'macd_line', 'signal_line', 'macd_histogram',\n",
        "        'bb_upper', 'bb_middle', 'bb_lower',\n",
        "        'stoch_k', 'stoch_d'\n",
        "    ]\n",
        "\n",
        "    return df[columns].dropna()"
      ],
      "metadata": {
        "id": "TezMhMI86kMx"
      },
      "execution_count": 35,
      "outputs": []
    },
    {
      "cell_type": "code",
      "source": [
        "symbols = ['BTC', 'ETH', 'BNB', 'SOL', 'XRP', 'ADA', 'DOGE', 'LINK', 'DOT', 'AVAX']\n",
        "db_url = userdata.get('DB_URL')"
      ],
      "metadata": {
        "id": "UScDJG-p8GPG"
      },
      "execution_count": 54,
      "outputs": []
    },
    {
      "cell_type": "code",
      "source": [
        "price_data(symbols, db_url);\n",
        "trade_stats_data(symbols, db_url);\n",
        "technical_indicators_data(symbols, db_url);\n",
        "recent_trades_data(symbols, db_url);\n",
        "order_book_data(symbols, db_url);"
      ],
      "metadata": {
        "colab": {
          "base_uri": "https://localhost:8080/"
        },
        "id": "Q32Utvdm8Lih",
        "outputId": "29be7113-ded2-4669-9c68-cb42fa9d15a4"
      },
      "execution_count": 57,
      "outputs": [
        {
          "output_type": "stream",
          "name": "stdout",
          "text": [
            "Successfully loaded 9710 records to price_data\n",
            "Successfully loaded 10 records to tradestats_data\n",
            "Successfully loaded 9810 records to technicalindicators_data\n",
            "Successfully loaded 10000 records to recenttrades_data\n",
            "Successfully loaded 10 records to orderbook_data\n"
          ]
        }
      ]
    }
  ]
}